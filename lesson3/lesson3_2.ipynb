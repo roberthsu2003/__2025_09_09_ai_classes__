{
 "cells": [
  {
   "cell_type": "code",
   "execution_count": 4,
   "id": "371fb9d6",
   "metadata": {},
   "outputs": [],
   "source": [
    "%%capture\n",
    "%pip install wget\n",
    "%pip install mglearn"
   ]
  },
  {
   "cell_type": "code",
   "execution_count": 10,
   "id": "f624414d",
   "metadata": {},
   "outputs": [],
   "source": [
    "import wget\n",
    "# 避免重覆下載字型檔\n",
    "# 檢查有沒有重覆下載\n",
    "import os\n",
    "if not os.path.exists(\"ChineseFont.ttf\"):\n",
    "    wget.download(\"https://github.com/roberthsu2003/machine_learning/raw/refs/heads/main/source_data/ChineseFont.ttf\")"
   ]
  },
  {
   "cell_type": "code",
   "execution_count": 11,
   "id": "996d962c",
   "metadata": {},
   "outputs": [],
   "source": [
    "import mglearn\n",
    "import matplotlib.pyplot as plt"
   ]
  }
 ],
 "metadata": {
  "kernelspec": {
   "display_name": "machine_learning",
   "language": "python",
   "name": "python3"
  },
  "language_info": {
   "codemirror_mode": {
    "name": "ipython",
    "version": 3
   },
   "file_extension": ".py",
   "mimetype": "text/x-python",
   "name": "python",
   "nbconvert_exporter": "python",
   "pygments_lexer": "ipython3",
   "version": "3.10.18"
  }
 },
 "nbformat": 4,
 "nbformat_minor": 5
}
