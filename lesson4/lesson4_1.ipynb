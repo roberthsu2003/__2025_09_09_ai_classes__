{
 "cells": [
  {
   "cell_type": "code",
   "execution_count": null,
   "id": "ac042a3b",
   "metadata": {},
   "outputs": [],
   "source": [
    "!pip install wget"
   ]
  },
  {
   "cell_type": "code",
   "execution_count": 2,
   "id": "9657e95e",
   "metadata": {},
   "outputs": [],
   "source": [
    "import wget\n",
    "import os\n",
    "if not os.path.exists('ChineseFont.ttf'):\n",
    "    url = 'https://github.com/roberthsu2003/machine_learning/raw/refs/heads/main/source_data/ChineseFont.ttf'\n",
    "    filename = wget.download(url)\n",
    "else:\n",
    "    filename = 'ChineseFont.ttf'"
   ]
  },
  {
   "cell_type": "code",
   "execution_count": 3,
   "id": "16aa1348",
   "metadata": {},
   "outputs": [],
   "source": [
    "import numpy as np\n",
    "import matplotlib.pyplot as plt\n",
    "import matplotlib as mlp\n",
    "from matplotlib.font_manager import fontManager\n",
    "\n",
    "fontManager.addfont(filename)\n",
    "mlp.rcParams['font.family'] = 'ChineseFont'"
   ]
  }
 ],
 "metadata": {
  "kernelspec": {
   "display_name": "machine_learning",
   "language": "python",
   "name": "python3"
  },
  "language_info": {
   "codemirror_mode": {
    "name": "ipython",
    "version": 3
   },
   "file_extension": ".py",
   "mimetype": "text/x-python",
   "name": "python",
   "nbconvert_exporter": "python",
   "pygments_lexer": "ipython3",
   "version": "3.10.18"
  }
 },
 "nbformat": 4,
 "nbformat_minor": 5
}
