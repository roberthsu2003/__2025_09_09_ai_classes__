{
 "cells": [
  {
   "cell_type": "code",
   "execution_count": 1,
   "id": "e6487793",
   "metadata": {},
   "outputs": [
    {
     "name": "stdout",
     "output_type": "stream",
     "text": [
      "Requirement already satisfied: wget in /opt/miniconda3/envs/machine_learning/lib/python3.10/site-packages (3.2)\n"
     ]
    }
   ],
   "source": [
    "# 步驟1: 安裝必要的套件\n",
    "# 這個步驟是為了下載中文字型檔案，讓圖表能夠正確顯示中文\n",
    "# 學生可以透過 prompt: \"安裝 wget 套件用於下載檔案\"\n",
    "!pip install wget"
   ]
  },
  {
   "cell_type": "code",
   "execution_count": null,
   "id": "b041db7b",
   "metadata": {},
   "outputs": [],
   "source": [
    "# 步驟2: 下載中文字型檔案\n",
    "# 這個步驟是為了確保 matplotlib 圖表能夠正確顯示中文字體\n",
    "# 學生可以透過 prompt: \"下載中文字型檔案並導入 wget 模組\"\n",
    "# 必需檢查是否已經下載過字型，避免重複下載\n",
    "import wget\n",
    "import os\n",
    "if not os.path.exists('ChineseFont.ttf'):\n",
    "    url = 'https://github.com/roberthsu2003/machine_learning/raw/refs/heads/main/source_data/ChineseFont.ttf'\n",
    "    filename = wget.download(url)\n",
    "else:\n",
    "    filename = 'ChineseFont.ttf'\n",
    "\n"
   ]
  },
  {
   "cell_type": "markdown",
   "id": "99cdb35b",
   "metadata": {},
   "source": [
    "### 如何使用 scikit-learn 的 KNeighborsClassifier 模型來進行分類\n",
    "- 我們將使用一個簡單的數據集，其中包含兩個特徵（例如，花瓣長度和花瓣寬度），並預測鳶尾花的種類（0、1 或 2）。"
   ]
  },
  {
   "cell_type": "code",
   "execution_count": null,
   "id": "85b10321",
   "metadata": {},
   "outputs": [],
   "source": [
    "# 步驟3: 導入必要的套件和設定中文字型\n",
    "# 學生可以透過 prompt: \"導入機器學習所需的套件包括 numpy, matplotlib, sklearn 等\"\n",
    "import numpy as np\n",
    "import matplotlib.pyplot as plt\n",
    "import matplotlib as mlp\n",
    "from matplotlib.font_manager import fontManager\n",
    "\n",
    "fontManager.addfont(filename)\n",
    "mlp.rcParams['font.family'] = 'ChineseFont'\n"
   ]
  },
  {
   "cell_type": "code",
   "execution_count": 14,
   "id": "c42830ee",
   "metadata": {},
   "outputs": [
    {
     "name": "stdout",
     "output_type": "stream",
     "text": [
      "特徵矩陣形狀: (150, 2)\n",
      "目標變數形狀: (150,)\n"
     ]
    }
   ],
   "source": [
    "# 步驟4: 載入鳶尾花數據集\n",
    "# 學生可以透過 prompt: \"載入 sklearn 內建的鳶尾花數據集並提取前兩個特徵\"\n",
    "from sklearn.datasets import load_iris\n",
    "\n",
    "iris = load_iris()\n",
    "\n",
    "# 只使用前兩個特徵：花萼長度和花萼寬度\n",
    "X = iris.data[:, :2]\n",
    "\n",
    "# 查看數據集的形狀\n",
    "print(\"特徵矩陣形狀:\", X.shape)\n",
    "\n",
    "# 目標變數：鳶尾花種類 (0, 1, 2)\n",
    "y = iris.target\n",
    "\n",
    "# 查看目標變數的形狀\n",
    "print(\"目標變數形狀:\", y.shape)"
   ]
  },
  {
   "cell_type": "code",
   "execution_count": 15,
   "id": "5b6388a6",
   "metadata": {},
   "outputs": [
    {
     "name": "stdout",
     "output_type": "stream",
     "text": [
      "訓練集形狀: (120, 2) (120,)\n",
      "測試集形狀: (30, 2) (30,)\n"
     ]
    }
   ],
   "source": [
    "# 步驟5: 分割訓練集和測試集\n",
    "# 學生可以透過 prompt: \"將數據集分割成訓練集和測試集，測試集佔 20%\"\n",
    "from sklearn.model_selection import train_test_split\n",
    "\n",
    "X_train, X_test, y_train, y_test = train_test_split(X, y, test_size=0.2, random_state=42)\n",
    "print(\"訓練集形狀:\", X_train.shape, y_train.shape)\n",
    "print(\"測試集形狀:\", X_test.shape, y_test.shape)\n"
   ]
  }
 ],
 "metadata": {
  "kernelspec": {
   "display_name": "machine_learning",
   "language": "python",
   "name": "python3"
  },
  "language_info": {
   "codemirror_mode": {
    "name": "ipython",
    "version": 3
   },
   "file_extension": ".py",
   "mimetype": "text/x-python",
   "name": "python",
   "nbconvert_exporter": "python",
   "pygments_lexer": "ipython3",
   "version": "3.10.18"
  }
 },
 "nbformat": 4,
 "nbformat_minor": 5
}
