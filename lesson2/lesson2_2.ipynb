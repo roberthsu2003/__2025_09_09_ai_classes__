{
 "cells": [
  {
   "cell_type": "code",
   "execution_count": 1,
   "id": "d6ed1611",
   "metadata": {},
   "outputs": [
    {
     "name": "stdout",
     "output_type": "stream",
     "text": [
      "擲骰子結果: [6 2 5 6 2 5 2 5 4 4]\n"
     ]
    }
   ],
   "source": [
    "import numpy as np\n",
    "\n",
    "## 模擬擲骰子 10 次，每次結果為 1~6 的整數\n",
    "results = np.random.randint(1, 7, size=10)\n",
    "print(\"擲骰子結果:\", results)"
   ]
  },
  {
   "cell_type": "code",
   "execution_count": 13,
   "id": "9d35715b",
   "metadata": {},
   "outputs": [
    {
     "name": "stdout",
     "output_type": "stream",
     "text": [
      "投擲硬幣的結果（離散隨機變數 Y）: [1 0 1 0 1 0 1 1 1 0]\n"
     ]
    }
   ],
   "source": [
    "import numpy as np\n",
    "\n",
    "# 模擬投擲硬幣 10 次，0 表示反面，1 表示正面\n",
    "# 什麼是二項式亂數？\n",
    "# 二項式亂數是指根據「二項分布」產生的隨機數。二項分布描述的是：在固定次數 n 的獨立試驗中，每次試驗成功的機率為 p，最終成功的次數會呈現什麼樣的分布。\n",
    "# 例如：拋 10 次硬幣（n=10），每次出現正面的機率是 0.5（p=0.5），那麼「出現正面的次數」就是一個二項式亂數。\n",
    "# 在 numpy 中，可以用 np.random.binomial 來產生這種亂數。\n",
    "coin_flips = np.random.binomial(n=1, p=0.5, size=10)\n",
    "# n 代表「每一次試驗中重複進行的次數」。\n",
    "# 在這裡 n=1，表示每次只拋一次硬幣（即每次試驗只有一次成功或失敗的機會）。\n",
    "# 如果 n=3，則代表每次試驗會連續拋3次硬幣，並記錄其中正面的次數。\n",
    "# p=0.5：每次成功（例如拋到正面）的機率是 0.5。\n",
    "# size=10：總共重複這個試驗 10 次，得到 10 個結果。\n",
    "print(\"投擲硬幣的結果（離散隨機變數 Y）:\", coin_flips)"
   ]
  },
  {
   "cell_type": "code",
   "execution_count": null,
   "id": "174c271c",
   "metadata": {},
   "outputs": [
    {
     "name": "stdout",
     "output_type": "stream",
     "text": [
      "模擬身高資料（連續隨機變數 Z）: [156.21403764 165.27903858 135.83354339 171.88674267 179.58318068\n",
      " 162.73913531 186.16991362 178.68065908 163.5830461  170.60636912]\n",
      "身高資料的平均值: 167.06 公分\n",
      "身高資料的標準差: 13.49 公分\n"
     ]
    }
   ],
   "source": [
    "# 產生 10 筆身高資料（單位：公分）\n",
    "heights = np.random.normal(loc=170, scale=10, size=10)\n",
    "print(\"模擬身高資料（連續隨機變數 Z）:\", heights)\n"
   ]
  }
 ],
 "metadata": {
  "kernelspec": {
   "display_name": "machine_learning",
   "language": "python",
   "name": "python3"
  },
  "language_info": {
   "codemirror_mode": {
    "name": "ipython",
    "version": 3
   },
   "file_extension": ".py",
   "mimetype": "text/x-python",
   "name": "python",
   "nbconvert_exporter": "python",
   "pygments_lexer": "ipython3",
   "version": "3.10.18"
  }
 },
 "nbformat": 4,
 "nbformat_minor": 5
}
